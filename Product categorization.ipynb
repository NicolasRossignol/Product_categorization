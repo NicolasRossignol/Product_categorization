{
 "cells": [
  {
   "cell_type": "markdown",
   "metadata": {},
   "source": [
    "# Product categorization\n",
    "\n",
    "Objectif: Regrouper des items en différentes catégories plus générales en se basant sur une analyse sémantique du contenu de la description.\n",
    "Contrainte: La description ne fait que quelques mots, c'est une entête.\n",
    "Un exemple d'application pourrait être un site d'échange/ventes entre particulier où le produit est décrit en qq mots par l'utilisateur. Ou alors des messages dont on n'aurait que le sujet, pas le corps du texte.\n",
    "\n",
    "Le problème s'identifie à du topic modeling mais avec un texte (document) très court\n",
    "\n",
    "- Exploration / formatage\n",
    "- Approche Bag of words suivie d'un k-Means\n",
    "- A pproche Latent Dirichlet Allocation\n",
    "- Approches hybrides: guided LDA? Autres?"
   ]
  },
  {
   "cell_type": "code",
   "execution_count": 1,
   "metadata": {},
   "outputs": [],
   "source": [
    "import pandas as pd\n",
    "import numpy as np\n",
    "%matplotlib inline\n",
    "import matplotlib.pyplot as plt\n",
    "import nltk"
   ]
  },
  {
   "cell_type": "markdown",
   "metadata": {},
   "source": [
    "note: le fichier original a été lu en 'latin1' puis ré-encodé en 'utf-8' pour plus de simplicité"
   ]
  },
  {
   "cell_type": "code",
   "execution_count": 2,
   "metadata": {},
   "outputs": [],
   "source": [
    "data = pd.read_csv('data/data.csv',index_col=0)"
   ]
  },
  {
   "cell_type": "code",
   "execution_count": 3,
   "metadata": {},
   "outputs": [
    {
     "data": {
      "text/html": [
       "<div>\n",
       "<style scoped>\n",
       "    .dataframe tbody tr th:only-of-type {\n",
       "        vertical-align: middle;\n",
       "    }\n",
       "\n",
       "    .dataframe tbody tr th {\n",
       "        vertical-align: top;\n",
       "    }\n",
       "\n",
       "    .dataframe thead th {\n",
       "        text-align: right;\n",
       "    }\n",
       "</style>\n",
       "<table border=\"1\" class=\"dataframe\">\n",
       "  <thead>\n",
       "    <tr style=\"text-align: right;\">\n",
       "      <th></th>\n",
       "      <th>product_name</th>\n",
       "    </tr>\n",
       "  </thead>\n",
       "  <tbody>\n",
       "    <tr>\n",
       "      <th>0</th>\n",
       "      <td>Appareil à chichis</td>\n",
       "    </tr>\n",
       "    <tr>\n",
       "      <th>1</th>\n",
       "      <td>dvd raiponce</td>\n",
       "    </tr>\n",
       "    <tr>\n",
       "      <th>2</th>\n",
       "      <td>Raquette de squash artengo sr 840</td>\n",
       "    </tr>\n",
       "    <tr>\n",
       "      <th>3</th>\n",
       "      <td>lunette astronomique</td>\n",
       "    </tr>\n",
       "    <tr>\n",
       "      <th>4</th>\n",
       "      <td>appareil à chaussons</td>\n",
       "    </tr>\n",
       "    <tr>\n",
       "      <th>5</th>\n",
       "      <td>Appareil à fondue au chocolat</td>\n",
       "    </tr>\n",
       "    <tr>\n",
       "      <th>6</th>\n",
       "      <td>Petit futé Italie du Nord 2013 - guide</td>\n",
       "    </tr>\n",
       "    <tr>\n",
       "      <th>7</th>\n",
       "      <td>Coupe ananas</td>\n",
       "    </tr>\n",
       "    <tr>\n",
       "      <th>8</th>\n",
       "      <td>8 flûtes à champagne</td>\n",
       "    </tr>\n",
       "    <tr>\n",
       "      <th>9</th>\n",
       "      <td>VTT</td>\n",
       "    </tr>\n",
       "  </tbody>\n",
       "</table>\n",
       "</div>"
      ],
      "text/plain": [
       "                             product_name\n",
       "0                      Appareil à chichis\n",
       "1                            dvd raiponce\n",
       "2       Raquette de squash artengo sr 840\n",
       "3                    lunette astronomique\n",
       "4                    appareil à chaussons\n",
       "5           Appareil à fondue au chocolat\n",
       "6  Petit futé Italie du Nord 2013 - guide\n",
       "7                            Coupe ananas\n",
       "8                    8 flûtes à champagne\n",
       "9                                     VTT"
      ]
     },
     "execution_count": 3,
     "metadata": {},
     "output_type": "execute_result"
    }
   ],
   "source": [
    "data.head(10)"
   ]
  },
  {
   "cell_type": "code",
   "execution_count": null,
   "metadata": {},
   "outputs": [],
   "source": []
  },
  {
   "cell_type": "code",
   "execution_count": 42,
   "metadata": {},
   "outputs": [],
   "source": [
    "import nltk"
   ]
  },
  {
   "cell_type": "code",
   "execution_count": 43,
   "metadata": {},
   "outputs": [],
   "source": [
    "stemmer = nltk.stem.SnowballStemmer(\"french\")"
   ]
  },
  {
   "cell_type": "code",
   "execution_count": 53,
   "metadata": {},
   "outputs": [],
   "source": [
    "doc = 'Appareil à chichis'"
   ]
  },
  {
   "cell_type": "code",
   "execution_count": 54,
   "metadata": {},
   "outputs": [
    {
     "data": {
      "text/plain": [
       "['Appareil', 'à', 'chichis']"
      ]
     },
     "execution_count": 54,
     "metadata": {},
     "output_type": "execute_result"
    }
   ],
   "source": [
    "nltk.word_tokenize(doc)"
   ]
  },
  {
   "cell_type": "code",
   "execution_count": 55,
   "metadata": {},
   "outputs": [
    {
     "data": {
      "text/plain": [
       "['appareil', 'à', 'chichis']"
      ]
     },
     "execution_count": 55,
     "metadata": {},
     "output_type": "execute_result"
    }
   ],
   "source": [
    "nltk.word_tokenize(doc.lower())"
   ]
  },
  {
   "cell_type": "code",
   "execution_count": 56,
   "metadata": {},
   "outputs": [
    {
     "data": {
      "text/plain": [
       "['appareil', 'à', 'chich']"
      ]
     },
     "execution_count": 56,
     "metadata": {},
     "output_type": "execute_result"
    }
   ],
   "source": [
    "[stemmer.stem(m) for m in nltk.word_tokenize(doc.lower())]"
   ]
  },
  {
   "cell_type": "code",
   "execution_count": 58,
   "metadata": {},
   "outputs": [
    {
     "data": {
      "text/plain": [
       "['appareil', 'à', 'chausson']"
      ]
     },
     "execution_count": 58,
     "metadata": {},
     "output_type": "execute_result"
    }
   ],
   "source": [
    "doc = 'appareil à chaussons'\n",
    "[stemmer.stem(m) for m in nltk.word_tokenize(doc.lower())]"
   ]
  },
  {
   "cell_type": "code",
   "execution_count": 61,
   "metadata": {},
   "outputs": [
    {
     "data": {
      "text/plain": [
       "[\"l'appareil\", 'à', 'chaussons']"
      ]
     },
     "execution_count": 61,
     "metadata": {},
     "output_type": "execute_result"
    }
   ],
   "source": [
    "doc = 'l\\'appareil à chaussons'\n",
    "nltk.word_tokenize(doc.lower(), language='french')"
   ]
  },
  {
   "cell_type": "code",
   "execution_count": 10,
   "metadata": {},
   "outputs": [
    {
     "data": {
      "text/plain": [
       "['appareil', 'à', 'chausson']"
      ]
     },
     "execution_count": 10,
     "metadata": {},
     "output_type": "execute_result"
    }
   ],
   "source": [
    "stemmer = nltk.stem.SnowballStemmer(\"french\", ignore_stopwords=True)\n",
    "doc = 'appareil à chaussons'\n",
    "[stemmer.stem(m) for m in nltk.word_tokenize(doc.lower())]"
   ]
  },
  {
   "cell_type": "code",
   "execution_count": 9,
   "metadata": {},
   "outputs": [
    {
     "data": {
      "text/plain": [
       "['appareil', 'à', 'chausson']"
      ]
     },
     "execution_count": 9,
     "metadata": {},
     "output_type": "execute_result"
    }
   ],
   "source": [
    "stemmer = nltk.stem.SnowballStemmer(\"french\", ignore_stopwords=False)\n",
    "doc = 'appareil à chaussons'\n",
    "[stemmer.stem(m) for m in nltk.word_tokenize(doc.lower())]"
   ]
  },
  {
   "cell_type": "code",
   "execution_count": 65,
   "metadata": {},
   "outputs": [
    {
     "data": {
      "text/plain": [
       "['appareil', 'chaussons']"
      ]
     },
     "execution_count": 65,
     "metadata": {},
     "output_type": "execute_result"
    }
   ],
   "source": [
    "from nltk.corpus import stopwords\n",
    "french_stopwords = set(stopwords.words('french'))\n",
    "doc = 'appareil à chaussons'\n",
    "[m for m in nltk.word_tokenize(doc.lower())\n",
    "     if m.lower() not in french_stopwords]"
   ]
  },
  {
   "cell_type": "code",
   "execution_count": null,
   "metadata": {},
   "outputs": [],
   "source": []
  },
  {
   "cell_type": "code",
   "execution_count": 4,
   "metadata": {},
   "outputs": [],
   "source": [
    "test_corpus = data.head(10)\n"
   ]
  },
  {
   "cell_type": "code",
   "execution_count": 5,
   "metadata": {},
   "outputs": [
    {
     "data": {
      "text/html": [
       "<div>\n",
       "<style scoped>\n",
       "    .dataframe tbody tr th:only-of-type {\n",
       "        vertical-align: middle;\n",
       "    }\n",
       "\n",
       "    .dataframe tbody tr th {\n",
       "        vertical-align: top;\n",
       "    }\n",
       "\n",
       "    .dataframe thead th {\n",
       "        text-align: right;\n",
       "    }\n",
       "</style>\n",
       "<table border=\"1\" class=\"dataframe\">\n",
       "  <thead>\n",
       "    <tr style=\"text-align: right;\">\n",
       "      <th></th>\n",
       "      <th>product_name</th>\n",
       "    </tr>\n",
       "  </thead>\n",
       "  <tbody>\n",
       "    <tr>\n",
       "      <th>0</th>\n",
       "      <td>Appareil à chichis</td>\n",
       "    </tr>\n",
       "    <tr>\n",
       "      <th>1</th>\n",
       "      <td>dvd raiponce</td>\n",
       "    </tr>\n",
       "    <tr>\n",
       "      <th>2</th>\n",
       "      <td>Raquette de squash artengo sr 840</td>\n",
       "    </tr>\n",
       "    <tr>\n",
       "      <th>3</th>\n",
       "      <td>lunette astronomique</td>\n",
       "    </tr>\n",
       "    <tr>\n",
       "      <th>4</th>\n",
       "      <td>appareil à chaussons</td>\n",
       "    </tr>\n",
       "    <tr>\n",
       "      <th>5</th>\n",
       "      <td>Appareil à fondue au chocolat</td>\n",
       "    </tr>\n",
       "    <tr>\n",
       "      <th>6</th>\n",
       "      <td>Petit futé Italie du Nord 2013 - guide</td>\n",
       "    </tr>\n",
       "    <tr>\n",
       "      <th>7</th>\n",
       "      <td>Coupe ananas</td>\n",
       "    </tr>\n",
       "    <tr>\n",
       "      <th>8</th>\n",
       "      <td>8 flûtes à champagne</td>\n",
       "    </tr>\n",
       "    <tr>\n",
       "      <th>9</th>\n",
       "      <td>VTT</td>\n",
       "    </tr>\n",
       "  </tbody>\n",
       "</table>\n",
       "</div>"
      ],
      "text/plain": [
       "                             product_name\n",
       "0                      Appareil à chichis\n",
       "1                            dvd raiponce\n",
       "2       Raquette de squash artengo sr 840\n",
       "3                    lunette astronomique\n",
       "4                    appareil à chaussons\n",
       "5           Appareil à fondue au chocolat\n",
       "6  Petit futé Italie du Nord 2013 - guide\n",
       "7                            Coupe ananas\n",
       "8                    8 flûtes à champagne\n",
       "9                                     VTT"
      ]
     },
     "execution_count": 5,
     "metadata": {},
     "output_type": "execute_result"
    }
   ],
   "source": [
    "test_corpus"
   ]
  },
  {
   "cell_type": "code",
   "execution_count": 8,
   "metadata": {},
   "outputs": [
    {
     "data": {
      "text/plain": [
       "['Appareil à chichis',\n",
       " 'dvd raiponce',\n",
       " 'Raquette de squash artengo sr 840',\n",
       " 'lunette astronomique',\n",
       " 'appareil à chaussons',\n",
       " 'Appareil à fondue au chocolat',\n",
       " 'Petit futé Italie du Nord 2013 - guide',\n",
       " 'Coupe ananas',\n",
       " '8 flûtes à champagne',\n",
       " 'VTT']"
      ]
     },
     "execution_count": 8,
     "metadata": {},
     "output_type": "execute_result"
    }
   ],
   "source": [
    "list(test_corpus['product_name'])"
   ]
  },
  {
   "cell_type": "code",
   "execution_count": 12,
   "metadata": {},
   "outputs": [],
   "source": [
    "def stemming_corpus(corpus):\n",
    "    ## stemming corpus\n",
    "    # le stemmer doit être appliqué sur des tokens\n",
    "    # tous les mots des documents sont processés \n",
    "    # mais je conserve au final le format de corpus\n",
    "    from nltk.corpus import stopwords\n",
    "    french_stopwords = set(stopwords.words('french'))\n",
    "    tokenizer = nltk.RegexpTokenizer(r'\\b\\w\\w+\\b')\n",
    "    stemmer = stemmer = nltk.stem.SnowballStemmer(\"french\")\n",
    "    stemmed_corpus = []\n",
    "    for doc in corpus:\n",
    "        s = ' '\n",
    "        stemmed_corpus.extend(\n",
    "            [s.join([stemmer.stem(w) for w in tokenizer.tokenize(doc) \n",
    "                     if w.lower() not in french_stopwords])]\n",
    "        )\n",
    "    return(stemmed_corpus)\n"
   ]
  },
  {
   "cell_type": "code",
   "execution_count": 13,
   "metadata": {},
   "outputs": [
    {
     "data": {
      "text/plain": [
       "['appareil chich',\n",
       " 'dvd raiponc',\n",
       " 'raquet squash artengo sr 840',\n",
       " 'lunet astronom',\n",
       " 'appareil chausson',\n",
       " 'appareil fondu chocolat',\n",
       " 'pet fut ital nord 2013 guid',\n",
       " 'coup anan',\n",
       " 'flût champagn',\n",
       " 'vtt']"
      ]
     },
     "execution_count": 13,
     "metadata": {},
     "output_type": "execute_result"
    }
   ],
   "source": [
    "stemming_corpus(list(test_corpus['product_name']))"
   ]
  },
  {
   "cell_type": "code",
   "execution_count": 16,
   "metadata": {},
   "outputs": [
    {
     "name": "stdout",
     "output_type": "stream",
     "text": [
      "Vocabulary size: 42\n",
      "10 first features:\n",
      "['2013', '2013 guid', '840', 'anan', 'appareil', 'appareil chausson', 'appareil chich', 'appareil fondu', 'artengo', 'artengo sr']\n"
     ]
    }
   ],
   "source": [
    "from sklearn.feature_extraction.text import TfidfVectorizer\n",
    "tfidf_vect = TfidfVectorizer(min_df=0, max_df=0.95, # ignore termes présents ds plus 95% doc\n",
    "                             ngram_range=(1, 2)) # si je veux considérer ts les unigrammes et tous les bigrammes\n",
    "corpus = stemming_corpus(list(test_corpus['product_name']))\n",
    "tfidf_vect.fit(corpus)\n",
    "\n",
    "vocabulaire = tfidf_vect.vocabulary_\n",
    "print('Vocabulary size: {}'.format(len(tfidf_vect.vocabulary_)))\n",
    "print('10 first features:\\n{}'.format(tfidf_vect.get_feature_names()[:10]))\n"
   ]
  },
  {
   "cell_type": "code",
   "execution_count": 17,
   "metadata": {},
   "outputs": [],
   "source": [
    "X_train = tfidf_vect.transform(corpus)"
   ]
  },
  {
   "cell_type": "code",
   "execution_count": 18,
   "metadata": {},
   "outputs": [
    {
     "data": {
      "text/plain": [
       "<10x42 sparse matrix of type '<class 'numpy.float64'>'\n",
       "\twith 44 stored elements in Compressed Sparse Row format>"
      ]
     },
     "execution_count": 18,
     "metadata": {},
     "output_type": "execute_result"
    }
   ],
   "source": [
    "X_train"
   ]
  },
  {
   "cell_type": "code",
   "execution_count": 19,
   "metadata": {},
   "outputs": [],
   "source": [
    "from sklearn.cluster import KMeans\n",
    "kmeans = KMeans(n_clusters=2, random_state=0).fit(X_train)"
   ]
  },
  {
   "cell_type": "code",
   "execution_count": 20,
   "metadata": {},
   "outputs": [
    {
     "data": {
      "text/plain": [
       "array([1, 0, 0, 0, 1, 1, 0, 0, 0, 0])"
      ]
     },
     "execution_count": 20,
     "metadata": {},
     "output_type": "execute_result"
    }
   ],
   "source": [
    "kmeans.labels_"
   ]
  },
  {
   "cell_type": "code",
   "execution_count": 21,
   "metadata": {},
   "outputs": [
    {
     "name": "stderr",
     "output_type": "stream",
     "text": [
      "C:\\Users\\Nicolas\\Anaconda3\\lib\\site-packages\\ipykernel_launcher.py:1: SettingWithCopyWarning: \n",
      "A value is trying to be set on a copy of a slice from a DataFrame.\n",
      "Try using .loc[row_indexer,col_indexer] = value instead\n",
      "\n",
      "See the caveats in the documentation: http://pandas.pydata.org/pandas-docs/stable/indexing.html#indexing-view-versus-copy\n",
      "  \"\"\"Entry point for launching an IPython kernel.\n"
     ]
    },
    {
     "data": {
      "text/html": [
       "<div>\n",
       "<style scoped>\n",
       "    .dataframe tbody tr th:only-of-type {\n",
       "        vertical-align: middle;\n",
       "    }\n",
       "\n",
       "    .dataframe tbody tr th {\n",
       "        vertical-align: top;\n",
       "    }\n",
       "\n",
       "    .dataframe thead th {\n",
       "        text-align: right;\n",
       "    }\n",
       "</style>\n",
       "<table border=\"1\" class=\"dataframe\">\n",
       "  <thead>\n",
       "    <tr style=\"text-align: right;\">\n",
       "      <th></th>\n",
       "      <th>product_name</th>\n",
       "      <th>labels</th>\n",
       "    </tr>\n",
       "  </thead>\n",
       "  <tbody>\n",
       "    <tr>\n",
       "      <th>0</th>\n",
       "      <td>Appareil à chichis</td>\n",
       "      <td>1</td>\n",
       "    </tr>\n",
       "    <tr>\n",
       "      <th>1</th>\n",
       "      <td>dvd raiponce</td>\n",
       "      <td>0</td>\n",
       "    </tr>\n",
       "    <tr>\n",
       "      <th>2</th>\n",
       "      <td>Raquette de squash artengo sr 840</td>\n",
       "      <td>0</td>\n",
       "    </tr>\n",
       "    <tr>\n",
       "      <th>3</th>\n",
       "      <td>lunette astronomique</td>\n",
       "      <td>0</td>\n",
       "    </tr>\n",
       "    <tr>\n",
       "      <th>4</th>\n",
       "      <td>appareil à chaussons</td>\n",
       "      <td>1</td>\n",
       "    </tr>\n",
       "    <tr>\n",
       "      <th>5</th>\n",
       "      <td>Appareil à fondue au chocolat</td>\n",
       "      <td>1</td>\n",
       "    </tr>\n",
       "    <tr>\n",
       "      <th>6</th>\n",
       "      <td>Petit futé Italie du Nord 2013 - guide</td>\n",
       "      <td>0</td>\n",
       "    </tr>\n",
       "    <tr>\n",
       "      <th>7</th>\n",
       "      <td>Coupe ananas</td>\n",
       "      <td>0</td>\n",
       "    </tr>\n",
       "    <tr>\n",
       "      <th>8</th>\n",
       "      <td>8 flûtes à champagne</td>\n",
       "      <td>0</td>\n",
       "    </tr>\n",
       "    <tr>\n",
       "      <th>9</th>\n",
       "      <td>VTT</td>\n",
       "      <td>0</td>\n",
       "    </tr>\n",
       "  </tbody>\n",
       "</table>\n",
       "</div>"
      ],
      "text/plain": [
       "                             product_name  labels\n",
       "0                      Appareil à chichis       1\n",
       "1                            dvd raiponce       0\n",
       "2       Raquette de squash artengo sr 840       0\n",
       "3                    lunette astronomique       0\n",
       "4                    appareil à chaussons       1\n",
       "5           Appareil à fondue au chocolat       1\n",
       "6  Petit futé Italie du Nord 2013 - guide       0\n",
       "7                            Coupe ananas       0\n",
       "8                    8 flûtes à champagne       0\n",
       "9                                     VTT       0"
      ]
     },
     "execution_count": 21,
     "metadata": {},
     "output_type": "execute_result"
    }
   ],
   "source": [
    "test_corpus['labels'] = kmeans.labels_\n",
    "test_corpus"
   ]
  },
  {
   "cell_type": "code",
   "execution_count": 22,
   "metadata": {},
   "outputs": [
    {
     "name": "stdout",
     "output_type": "stream",
     "text": [
      "Vocabulary size: 592\n",
      "10 first features:\n",
      "['1200', '14', '14 4v', '3d', '400w', '44', '4v', '6000', '6000 pro', '90']\n"
     ]
    }
   ],
   "source": [
    "from sklearn.feature_extraction.text import TfidfVectorizer\n",
    "tfidf_vect = TfidfVectorizer(min_df=5, max_df=0.95, # ignore termes présents ds plus 95% doc\n",
    "                             ngram_range=(1, 2)) # si je veux considérer ts les unigrammes et tous les bigrammes\n",
    "corpus = stemming_corpus(list(data['product_name']))\n",
    "tfidf_vect.fit(corpus)\n",
    "\n",
    "vocabulaire = tfidf_vect.vocabulary_\n",
    "print('Vocabulary size: {}'.format(len(tfidf_vect.vocabulary_)))\n",
    "print('10 first features:\\n{}'.format(tfidf_vect.get_feature_names()[:10]))\n"
   ]
  },
  {
   "cell_type": "code",
   "execution_count": 23,
   "metadata": {},
   "outputs": [],
   "source": [
    "X_train = tfidf_vect.transform(corpus)\n",
    "from sklearn.cluster import KMeans\n",
    "kmeans = KMeans(n_clusters=5, random_state=0).fit(X_train)"
   ]
  },
  {
   "cell_type": "code",
   "execution_count": 32,
   "metadata": {},
   "outputs": [
    {
     "data": {
      "text/html": [
       "<div>\n",
       "<style scoped>\n",
       "    .dataframe tbody tr th:only-of-type {\n",
       "        vertical-align: middle;\n",
       "    }\n",
       "\n",
       "    .dataframe tbody tr th {\n",
       "        vertical-align: top;\n",
       "    }\n",
       "\n",
       "    .dataframe thead th {\n",
       "        text-align: right;\n",
       "    }\n",
       "</style>\n",
       "<table border=\"1\" class=\"dataframe\">\n",
       "  <thead>\n",
       "    <tr style=\"text-align: right;\">\n",
       "      <th></th>\n",
       "      <th>product_name</th>\n",
       "    </tr>\n",
       "  </thead>\n",
       "  <tbody>\n",
       "    <tr>\n",
       "      <th>215</th>\n",
       "      <td>Scie sauteuse</td>\n",
       "    </tr>\n",
       "    <tr>\n",
       "      <th>227</th>\n",
       "      <td>Scie sauteuse</td>\n",
       "    </tr>\n",
       "    <tr>\n",
       "      <th>287</th>\n",
       "      <td>Scie sauteuse 350W</td>\n",
       "    </tr>\n",
       "    <tr>\n",
       "      <th>334</th>\n",
       "      <td>Scie Sauteuse</td>\n",
       "    </tr>\n",
       "    <tr>\n",
       "      <th>353</th>\n",
       "      <td>Scie sauteuse</td>\n",
       "    </tr>\n",
       "    <tr>\n",
       "      <th>378</th>\n",
       "      <td>Scie sauteuse</td>\n",
       "    </tr>\n",
       "    <tr>\n",
       "      <th>412</th>\n",
       "      <td>Scie sauteuse</td>\n",
       "    </tr>\n",
       "    <tr>\n",
       "      <th>486</th>\n",
       "      <td>Scie sauteuse Bosch PST 700 PE</td>\n",
       "    </tr>\n",
       "    <tr>\n",
       "      <th>523</th>\n",
       "      <td>Scie sauteuse</td>\n",
       "    </tr>\n",
       "    <tr>\n",
       "      <th>584</th>\n",
       "      <td>Scie sauteuse</td>\n",
       "    </tr>\n",
       "  </tbody>\n",
       "</table>\n",
       "</div>"
      ],
      "text/plain": [
       "                       product_name\n",
       "215                   Scie sauteuse\n",
       "227                   Scie sauteuse\n",
       "287              Scie sauteuse 350W\n",
       "334                   Scie Sauteuse\n",
       "353                   Scie sauteuse\n",
       "378                   Scie sauteuse\n",
       "412                   Scie sauteuse\n",
       "486  Scie sauteuse Bosch PST 700 PE\n",
       "523                   Scie sauteuse\n",
       "584                   Scie sauteuse"
      ]
     },
     "execution_count": 32,
     "metadata": {},
     "output_type": "execute_result"
    }
   ],
   "source": [
    "data.iloc[np.where(kmeans.labels_==0)].head(10)"
   ]
  },
  {
   "cell_type": "code",
   "execution_count": 33,
   "metadata": {},
   "outputs": [
    {
     "data": {
      "text/html": [
       "<div>\n",
       "<style scoped>\n",
       "    .dataframe tbody tr th:only-of-type {\n",
       "        vertical-align: middle;\n",
       "    }\n",
       "\n",
       "    .dataframe tbody tr th {\n",
       "        vertical-align: top;\n",
       "    }\n",
       "\n",
       "    .dataframe thead th {\n",
       "        text-align: right;\n",
       "    }\n",
       "</style>\n",
       "<table border=\"1\" class=\"dataframe\">\n",
       "  <thead>\n",
       "    <tr style=\"text-align: right;\">\n",
       "      <th></th>\n",
       "      <th>product_name</th>\n",
       "    </tr>\n",
       "  </thead>\n",
       "  <tbody>\n",
       "    <tr>\n",
       "      <th>0</th>\n",
       "      <td>Appareil à chichis</td>\n",
       "    </tr>\n",
       "    <tr>\n",
       "      <th>4</th>\n",
       "      <td>appareil à chaussons</td>\n",
       "    </tr>\n",
       "    <tr>\n",
       "      <th>16</th>\n",
       "      <td>Appareil à chichis</td>\n",
       "    </tr>\n",
       "    <tr>\n",
       "      <th>30</th>\n",
       "      <td>Appareil à raclette</td>\n",
       "    </tr>\n",
       "    <tr>\n",
       "      <th>31</th>\n",
       "      <td>appareil à raclette</td>\n",
       "    </tr>\n",
       "    <tr>\n",
       "      <th>45</th>\n",
       "      <td>Appareil a raclette 8 personnes</td>\n",
       "    </tr>\n",
       "    <tr>\n",
       "      <th>46</th>\n",
       "      <td>Appareil à raclette</td>\n",
       "    </tr>\n",
       "    <tr>\n",
       "      <th>74</th>\n",
       "      <td>Appareil à raclette</td>\n",
       "    </tr>\n",
       "    <tr>\n",
       "      <th>76</th>\n",
       "      <td>Appareil a raclette</td>\n",
       "    </tr>\n",
       "    <tr>\n",
       "      <th>97</th>\n",
       "      <td>Appareil à chichis</td>\n",
       "    </tr>\n",
       "  </tbody>\n",
       "</table>\n",
       "</div>"
      ],
      "text/plain": [
       "                       product_name\n",
       "0                Appareil à chichis\n",
       "4              appareil à chaussons\n",
       "16               Appareil à chichis\n",
       "30              Appareil à raclette\n",
       "31              appareil à raclette\n",
       "45  Appareil a raclette 8 personnes\n",
       "46              Appareil à raclette\n",
       "74              Appareil à raclette\n",
       "76              Appareil a raclette\n",
       "97               Appareil à chichis"
      ]
     },
     "execution_count": 33,
     "metadata": {},
     "output_type": "execute_result"
    }
   ],
   "source": [
    "data.iloc[np.where(kmeans.labels_==1)].head(10)"
   ]
  },
  {
   "cell_type": "code",
   "execution_count": 34,
   "metadata": {},
   "outputs": [
    {
     "data": {
      "text/html": [
       "<div>\n",
       "<style scoped>\n",
       "    .dataframe tbody tr th:only-of-type {\n",
       "        vertical-align: middle;\n",
       "    }\n",
       "\n",
       "    .dataframe tbody tr th {\n",
       "        vertical-align: top;\n",
       "    }\n",
       "\n",
       "    .dataframe thead th {\n",
       "        text-align: right;\n",
       "    }\n",
       "</style>\n",
       "<table border=\"1\" class=\"dataframe\">\n",
       "  <thead>\n",
       "    <tr style=\"text-align: right;\">\n",
       "      <th></th>\n",
       "      <th>product_name</th>\n",
       "    </tr>\n",
       "  </thead>\n",
       "  <tbody>\n",
       "    <tr>\n",
       "      <th>147</th>\n",
       "      <td>Ponceuse BOSCH</td>\n",
       "    </tr>\n",
       "    <tr>\n",
       "      <th>284</th>\n",
       "      <td>Ponceuse vibrante ROTOTECH</td>\n",
       "    </tr>\n",
       "    <tr>\n",
       "      <th>455</th>\n",
       "      <td>Ponceuse BOSCH</td>\n",
       "    </tr>\n",
       "    <tr>\n",
       "      <th>478</th>\n",
       "      <td>Ponceuse Bosch PSM 800 A</td>\n",
       "    </tr>\n",
       "    <tr>\n",
       "      <th>479</th>\n",
       "      <td>PONCEUSE TRIANGULAIRE</td>\n",
       "    </tr>\n",
       "    <tr>\n",
       "      <th>480</th>\n",
       "      <td>Ponceuse électrique</td>\n",
       "    </tr>\n",
       "    <tr>\n",
       "      <th>549</th>\n",
       "      <td>Ponceuse électrique</td>\n",
       "    </tr>\n",
       "    <tr>\n",
       "      <th>550</th>\n",
       "      <td>Ponceuse Bosh</td>\n",
       "    </tr>\n",
       "    <tr>\n",
       "      <th>583</th>\n",
       "      <td>Ponceuse électrique</td>\n",
       "    </tr>\n",
       "    <tr>\n",
       "      <th>687</th>\n",
       "      <td>Ponceuse BOSCH</td>\n",
       "    </tr>\n",
       "  </tbody>\n",
       "</table>\n",
       "</div>"
      ],
      "text/plain": [
       "                   product_name\n",
       "147              Ponceuse BOSCH\n",
       "284  Ponceuse vibrante ROTOTECH\n",
       "455              Ponceuse BOSCH\n",
       "478    Ponceuse Bosch PSM 800 A\n",
       "479       PONCEUSE TRIANGULAIRE\n",
       "480         Ponceuse électrique\n",
       "549         Ponceuse électrique\n",
       "550               Ponceuse Bosh\n",
       "583         Ponceuse électrique\n",
       "687              Ponceuse BOSCH"
      ]
     },
     "execution_count": 34,
     "metadata": {},
     "output_type": "execute_result"
    }
   ],
   "source": [
    "data.iloc[np.where(kmeans.labels_==2)].head(10)"
   ]
  },
  {
   "cell_type": "code",
   "execution_count": 35,
   "metadata": {},
   "outputs": [
    {
     "data": {
      "text/html": [
       "<div>\n",
       "<style scoped>\n",
       "    .dataframe tbody tr th:only-of-type {\n",
       "        vertical-align: middle;\n",
       "    }\n",
       "\n",
       "    .dataframe tbody tr th {\n",
       "        vertical-align: top;\n",
       "    }\n",
       "\n",
       "    .dataframe thead th {\n",
       "        text-align: right;\n",
       "    }\n",
       "</style>\n",
       "<table border=\"1\" class=\"dataframe\">\n",
       "  <thead>\n",
       "    <tr style=\"text-align: right;\">\n",
       "      <th></th>\n",
       "      <th>product_name</th>\n",
       "    </tr>\n",
       "  </thead>\n",
       "  <tbody>\n",
       "    <tr>\n",
       "      <th>141</th>\n",
       "      <td>Diable</td>\n",
       "    </tr>\n",
       "    <tr>\n",
       "      <th>245</th>\n",
       "      <td>Diable</td>\n",
       "    </tr>\n",
       "    <tr>\n",
       "      <th>352</th>\n",
       "      <td>Diable</td>\n",
       "    </tr>\n",
       "    <tr>\n",
       "      <th>361</th>\n",
       "      <td>Diable</td>\n",
       "    </tr>\n",
       "    <tr>\n",
       "      <th>411</th>\n",
       "      <td>Diable pliant</td>\n",
       "    </tr>\n",
       "    <tr>\n",
       "      <th>436</th>\n",
       "      <td>Diable</td>\n",
       "    </tr>\n",
       "    <tr>\n",
       "      <th>501</th>\n",
       "      <td>Diable</td>\n",
       "    </tr>\n",
       "    <tr>\n",
       "      <th>728</th>\n",
       "      <td>Diable pliable</td>\n",
       "    </tr>\n",
       "    <tr>\n",
       "      <th>738</th>\n",
       "      <td>Diable 3 roues</td>\n",
       "    </tr>\n",
       "    <tr>\n",
       "      <th>843</th>\n",
       "      <td>diable</td>\n",
       "    </tr>\n",
       "  </tbody>\n",
       "</table>\n",
       "</div>"
      ],
      "text/plain": [
       "       product_name\n",
       "141          Diable\n",
       "245          Diable\n",
       "352          Diable\n",
       "361          Diable\n",
       "411   Diable pliant\n",
       "436          Diable\n",
       "501          Diable\n",
       "728  Diable pliable\n",
       "738  Diable 3 roues\n",
       "843          diable"
      ]
     },
     "execution_count": 35,
     "metadata": {},
     "output_type": "execute_result"
    }
   ],
   "source": [
    "data.iloc[np.where(kmeans.labels_==3)].head(10)"
   ]
  },
  {
   "cell_type": "code",
   "execution_count": 36,
   "metadata": {},
   "outputs": [
    {
     "data": {
      "text/html": [
       "<div>\n",
       "<style scoped>\n",
       "    .dataframe tbody tr th:only-of-type {\n",
       "        vertical-align: middle;\n",
       "    }\n",
       "\n",
       "    .dataframe tbody tr th {\n",
       "        vertical-align: top;\n",
       "    }\n",
       "\n",
       "    .dataframe thead th {\n",
       "        text-align: right;\n",
       "    }\n",
       "</style>\n",
       "<table border=\"1\" class=\"dataframe\">\n",
       "  <thead>\n",
       "    <tr style=\"text-align: right;\">\n",
       "      <th></th>\n",
       "      <th>product_name</th>\n",
       "    </tr>\n",
       "  </thead>\n",
       "  <tbody>\n",
       "    <tr>\n",
       "      <th>1</th>\n",
       "      <td>dvd raiponce</td>\n",
       "    </tr>\n",
       "    <tr>\n",
       "      <th>2</th>\n",
       "      <td>Raquette de squash artengo sr 840</td>\n",
       "    </tr>\n",
       "    <tr>\n",
       "      <th>3</th>\n",
       "      <td>lunette astronomique</td>\n",
       "    </tr>\n",
       "    <tr>\n",
       "      <th>5</th>\n",
       "      <td>Appareil à fondue au chocolat</td>\n",
       "    </tr>\n",
       "    <tr>\n",
       "      <th>6</th>\n",
       "      <td>Petit futé Italie du Nord 2013 - guide</td>\n",
       "    </tr>\n",
       "    <tr>\n",
       "      <th>7</th>\n",
       "      <td>Coupe ananas</td>\n",
       "    </tr>\n",
       "    <tr>\n",
       "      <th>8</th>\n",
       "      <td>8 flûtes à champagne</td>\n",
       "    </tr>\n",
       "    <tr>\n",
       "      <th>9</th>\n",
       "      <td>VTT</td>\n",
       "    </tr>\n",
       "    <tr>\n",
       "      <th>10</th>\n",
       "      <td>Playstation 3</td>\n",
       "    </tr>\n",
       "    <tr>\n",
       "      <th>11</th>\n",
       "      <td>Mini laser</td>\n",
       "    </tr>\n",
       "  </tbody>\n",
       "</table>\n",
       "</div>"
      ],
      "text/plain": [
       "                              product_name\n",
       "1                             dvd raiponce\n",
       "2        Raquette de squash artengo sr 840\n",
       "3                     lunette astronomique\n",
       "5            Appareil à fondue au chocolat\n",
       "6   Petit futé Italie du Nord 2013 - guide\n",
       "7                             Coupe ananas\n",
       "8                     8 flûtes à champagne\n",
       "9                                      VTT\n",
       "10                           Playstation 3\n",
       "11                              Mini laser"
      ]
     },
     "execution_count": 36,
     "metadata": {},
     "output_type": "execute_result"
    }
   ],
   "source": [
    "data.iloc[np.where(kmeans.labels_==4)].head(10)"
   ]
  },
  {
   "cell_type": "code",
   "execution_count": 45,
   "metadata": {},
   "outputs": [
    {
     "data": {
      "text/plain": [
       "['dvd raiponc',\n",
       " 'raquet squash artengo sr 840',\n",
       " 'lunet astronom',\n",
       " 'appareil chausson']"
      ]
     },
     "execution_count": 45,
     "metadata": {},
     "output_type": "execute_result"
    }
   ],
   "source": [
    "corpus[1:5]"
   ]
  },
  {
   "cell_type": "code",
   "execution_count": 51,
   "metadata": {},
   "outputs": [
    {
     "data": {
      "text/plain": [
       "(array([ 141,  245,  352,  361,  411,  436,  501,  728,  738,  843,  844,\n",
       "         845,  846,  895,  896,  897,  988, 1069, 1120, 1121, 1122, 1181,\n",
       "        1245, 1306, 1307, 1410, 1557, 1560, 1669, 1796, 1797, 1822, 1833,\n",
       "        1837, 1839, 1840, 1841, 1842, 1844, 1973, 1986, 1987, 2018, 2023,\n",
       "        2040, 2053, 2092, 2095, 2100, 2112, 2118, 2121, 2157, 2161, 2163,\n",
       "        2173, 2174, 2177, 2315, 2320, 2321, 2341, 2453, 2519, 2563, 2678,\n",
       "        2679, 2682, 2683, 2684, 2705, 2706, 2707, 2795, 2845, 2846, 2849,\n",
       "        2870, 2871, 2885, 3104, 3105, 3106, 3137, 3211, 3262, 3279, 3296,\n",
       "        3334, 3346, 3373, 3451, 3464, 3465, 3471, 3489, 3490, 3491, 3540,\n",
       "        3621, 3636, 3637, 3661, 3672, 3673, 3674, 3818, 3819, 3853, 3894,\n",
       "        3965, 3966, 3989, 3992, 3993, 3996, 3998, 3999, 4000, 4060, 4066,\n",
       "        4067, 4128, 4341, 4391, 4392, 4430, 4465, 4485, 4486, 4487, 4488,\n",
       "        4489, 4491, 4492, 4493, 4494, 4495, 4497, 4498, 4499, 4503, 4548,\n",
       "        4618, 4620, 4656, 4658, 4682, 4683, 4684, 4685, 4686, 4688, 4716,\n",
       "        4756, 4778, 4779, 4780, 4781, 4783, 4812, 4815, 4818, 4970],\n",
       "       dtype=int64),)"
      ]
     },
     "execution_count": 51,
     "metadata": {},
     "output_type": "execute_result"
    }
   ],
   "source": [
    "np.where(kmeans.labels_==3)"
   ]
  },
  {
   "cell_type": "code",
   "execution_count": 52,
   "metadata": {},
   "outputs": [
    {
     "ename": "TypeError",
     "evalue": "only integer scalar arrays can be converted to a scalar index",
     "output_type": "error",
     "traceback": [
      "\u001b[1;31m---------------------------------------------------------------------------\u001b[0m",
      "\u001b[1;31mTypeError\u001b[0m                                 Traceback (most recent call last)",
      "\u001b[1;32m<ipython-input-52-6d1be4fff212>\u001b[0m in \u001b[0;36m<module>\u001b[1;34m()\u001b[0m\n\u001b[1;32m----> 1\u001b[1;33m \u001b[0mcorpus\u001b[0m\u001b[1;33m[\u001b[0m\u001b[0mkmeans\u001b[0m\u001b[1;33m.\u001b[0m\u001b[0mlabels_\u001b[0m\u001b[1;33m==\u001b[0m\u001b[1;36m3\u001b[0m\u001b[1;33m]\u001b[0m\u001b[1;33m\u001b[0m\u001b[0m\n\u001b[0m",
      "\u001b[1;31mTypeError\u001b[0m: only integer scalar arrays can be converted to a scalar index"
     ]
    }
   ],
   "source": [
    "corpus[kmeans.labels_==3]"
   ]
  },
  {
   "cell_type": "code",
   "execution_count": 54,
   "metadata": {},
   "outputs": [
    {
     "data": {
      "text/plain": [
       "array([1, 5])"
      ]
     },
     "execution_count": 54,
     "metadata": {},
     "output_type": "execute_result"
    }
   ],
   "source": [
    "np.array([1,5])"
   ]
  },
  {
   "cell_type": "code",
   "execution_count": 55,
   "metadata": {},
   "outputs": [
    {
     "data": {
      "text/plain": [
       "[array(['1200', '14', '14 4v', '3d', '400w', '44', '4v', '6000',\n",
       "        '6000 pro', '90'], dtype='<U19')]"
      ]
     },
     "execution_count": 55,
     "metadata": {},
     "output_type": "execute_result"
    }
   ],
   "source": [
    "tfidf_vect.inverse_transform(corpus[:10])"
   ]
  },
  {
   "cell_type": "code",
   "execution_count": 56,
   "metadata": {},
   "outputs": [
    {
     "data": {
      "text/plain": [
       "<5206x592 sparse matrix of type '<class 'numpy.float64'>'\n",
       "\twith 13651 stored elements in Compressed Sparse Row format>"
      ]
     },
     "execution_count": 56,
     "metadata": {},
     "output_type": "execute_result"
    }
   ],
   "source": [
    "X_train"
   ]
  },
  {
   "cell_type": "code",
   "execution_count": 57,
   "metadata": {},
   "outputs": [
    {
     "data": {
      "text/plain": [
       "<164x592 sparse matrix of type '<class 'numpy.float64'>'\n",
       "\twith 171 stored elements in Compressed Sparse Row format>"
      ]
     },
     "execution_count": 57,
     "metadata": {},
     "output_type": "execute_result"
    }
   ],
   "source": [
    "X_train[np.where(kmeans.labels_==3)]"
   ]
  },
  {
   "cell_type": "code",
   "execution_count": 58,
   "metadata": {},
   "outputs": [
    {
     "data": {
      "text/plain": [
       "[array(['diabl'], dtype='<U19'),\n",
       " array(['diabl'], dtype='<U19'),\n",
       " array(['diabl'], dtype='<U19'),\n",
       " array(['diabl'], dtype='<U19'),\n",
       " array(['diabl', 'pli'], dtype='<U19'),\n",
       " array(['diabl'], dtype='<U19'),\n",
       " array(['diabl'], dtype='<U19'),\n",
       " array(['diabl', 'pliabl'], dtype='<U19'),\n",
       " array(['diabl', 'rou'], dtype='<U19'),\n",
       " array(['diabl'], dtype='<U19'),\n",
       " array(['diabl'], dtype='<U19'),\n",
       " array(['diabl'], dtype='<U19'),\n",
       " array(['diabl'], dtype='<U19'),\n",
       " array(['diabl', 'pli'], dtype='<U19'),\n",
       " array(['diabl'], dtype='<U19'),\n",
       " array(['diabl', 'déménag'], dtype='<U19'),\n",
       " array(['diabl'], dtype='<U19'),\n",
       " array(['diabl'], dtype='<U19'),\n",
       " array(['diabl'], dtype='<U19'),\n",
       " array(['diabl'], dtype='<U19'),\n",
       " array(['diabl'], dtype='<U19'),\n",
       " array(['diabl'], dtype='<U19'),\n",
       " array(['diabl'], dtype='<U19'),\n",
       " array(['diabl'], dtype='<U19'),\n",
       " array(['diabl'], dtype='<U19'),\n",
       " array(['diabl'], dtype='<U19'),\n",
       " array(['diabl'], dtype='<U19'),\n",
       " array(['diabl'], dtype='<U19'),\n",
       " array(['diabl'], dtype='<U19'),\n",
       " array(['diabl'], dtype='<U19'),\n",
       " array(['diabl'], dtype='<U19'),\n",
       " array(['diabl'], dtype='<U19'),\n",
       " array(['diabl'], dtype='<U19'),\n",
       " array(['diabl'], dtype='<U19'),\n",
       " array(['diabl'], dtype='<U19'),\n",
       " array(['diabl'], dtype='<U19'),\n",
       " array(['diabl'], dtype='<U19'),\n",
       " array(['diabl'], dtype='<U19'),\n",
       " array(['diabl'], dtype='<U19'),\n",
       " array(['diabl'], dtype='<U19'),\n",
       " array(['diabl'], dtype='<U19'),\n",
       " array(['diabl'], dtype='<U19'),\n",
       " array(['diabl'], dtype='<U19'),\n",
       " array(['diabl'], dtype='<U19'),\n",
       " array(['diabl'], dtype='<U19'),\n",
       " array(['diabl'], dtype='<U19'),\n",
       " array(['diabl'], dtype='<U19'),\n",
       " array(['diabl'], dtype='<U19'),\n",
       " array(['diabl'], dtype='<U19'),\n",
       " array(['diabl'], dtype='<U19'),\n",
       " array(['diabl'], dtype='<U19'),\n",
       " array(['diabl'], dtype='<U19'),\n",
       " array(['diabl'], dtype='<U19'),\n",
       " array(['diabl'], dtype='<U19'),\n",
       " array(['diabl'], dtype='<U19'),\n",
       " array(['diabl'], dtype='<U19'),\n",
       " array(['diabl'], dtype='<U19'),\n",
       " array(['diabl'], dtype='<U19'),\n",
       " array(['diabl'], dtype='<U19'),\n",
       " array(['diabl'], dtype='<U19'),\n",
       " array(['diabl'], dtype='<U19'),\n",
       " array(['diabl'], dtype='<U19'),\n",
       " array(['diabl'], dtype='<U19'),\n",
       " array(['diabl'], dtype='<U19'),\n",
       " array(['diabl'], dtype='<U19'),\n",
       " array(['diabl'], dtype='<U19'),\n",
       " array(['diabl'], dtype='<U19'),\n",
       " array(['diabl'], dtype='<U19'),\n",
       " array(['diabl'], dtype='<U19'),\n",
       " array(['diabl'], dtype='<U19'),\n",
       " array(['diabl'], dtype='<U19'),\n",
       " array(['diabl'], dtype='<U19'),\n",
       " array(['diabl'], dtype='<U19'),\n",
       " array(['diabl'], dtype='<U19'),\n",
       " array(['diabl'], dtype='<U19'),\n",
       " array(['diabl'], dtype='<U19'),\n",
       " array(['diabl'], dtype='<U19'),\n",
       " array(['diabl'], dtype='<U19'),\n",
       " array(['diabl'], dtype='<U19'),\n",
       " array(['diabl'], dtype='<U19'),\n",
       " array(['diabl'], dtype='<U19'),\n",
       " array(['diabl'], dtype='<U19'),\n",
       " array(['diabl'], dtype='<U19'),\n",
       " array(['diabl'], dtype='<U19'),\n",
       " array(['diabl'], dtype='<U19'),\n",
       " array(['diabl'], dtype='<U19'),\n",
       " array(['diabl'], dtype='<U19'),\n",
       " array(['diabl'], dtype='<U19'),\n",
       " array(['diabl'], dtype='<U19'),\n",
       " array(['diabl'], dtype='<U19'),\n",
       " array(['diabl'], dtype='<U19'),\n",
       " array(['diabl'], dtype='<U19'),\n",
       " array(['diabl'], dtype='<U19'),\n",
       " array(['diabl'], dtype='<U19'),\n",
       " array(['diabl'], dtype='<U19'),\n",
       " array(['diabl'], dtype='<U19'),\n",
       " array(['diabl'], dtype='<U19'),\n",
       " array(['diabl'], dtype='<U19'),\n",
       " array(['diabl'], dtype='<U19'),\n",
       " array(['diabl'], dtype='<U19'),\n",
       " array(['diabl'], dtype='<U19'),\n",
       " array(['diabl'], dtype='<U19'),\n",
       " array(['diabl'], dtype='<U19'),\n",
       " array(['diabl'], dtype='<U19'),\n",
       " array(['diabl'], dtype='<U19'),\n",
       " array(['diabl'], dtype='<U19'),\n",
       " array(['diabl'], dtype='<U19'),\n",
       " array(['diabl'], dtype='<U19'),\n",
       " array(['diabl', 'rou'], dtype='<U19'),\n",
       " array(['diabl'], dtype='<U19'),\n",
       " array(['diabl'], dtype='<U19'),\n",
       " array(['diabl'], dtype='<U19'),\n",
       " array(['diabl'], dtype='<U19'),\n",
       " array(['diabl'], dtype='<U19'),\n",
       " array(['diabl'], dtype='<U19'),\n",
       " array(['diabl'], dtype='<U19'),\n",
       " array(['diabl'], dtype='<U19'),\n",
       " array(['diabl'], dtype='<U19'),\n",
       " array(['diabl'], dtype='<U19'),\n",
       " array(['diabl'], dtype='<U19'),\n",
       " array(['diabl'], dtype='<U19'),\n",
       " array(['diabl'], dtype='<U19'),\n",
       " array(['diabl'], dtype='<U19'),\n",
       " array(['diabl'], dtype='<U19'),\n",
       " array(['diabl'], dtype='<U19'),\n",
       " array(['diabl'], dtype='<U19'),\n",
       " array(['diabl'], dtype='<U19'),\n",
       " array(['diabl'], dtype='<U19'),\n",
       " array(['diabl'], dtype='<U19'),\n",
       " array(['diabl'], dtype='<U19'),\n",
       " array(['diabl'], dtype='<U19'),\n",
       " array(['diabl'], dtype='<U19'),\n",
       " array(['diabl'], dtype='<U19'),\n",
       " array(['diabl'], dtype='<U19'),\n",
       " array(['diabl'], dtype='<U19'),\n",
       " array(['diabl'], dtype='<U19'),\n",
       " array(['diabl'], dtype='<U19'),\n",
       " array(['diabl'], dtype='<U19'),\n",
       " array(['diabl'], dtype='<U19'),\n",
       " array(['diabl'], dtype='<U19'),\n",
       " array(['diabl'], dtype='<U19'),\n",
       " array(['diabl'], dtype='<U19'),\n",
       " array(['diabl'], dtype='<U19'),\n",
       " array(['diabl'], dtype='<U19'),\n",
       " array(['diabl', 'ike'], dtype='<U19'),\n",
       " array(['diabl'], dtype='<U19'),\n",
       " array(['diabl'], dtype='<U19'),\n",
       " array(['diabl'], dtype='<U19'),\n",
       " array(['diabl'], dtype='<U19'),\n",
       " array(['diabl'], dtype='<U19'),\n",
       " array(['diabl'], dtype='<U19'),\n",
       " array(['diabl'], dtype='<U19'),\n",
       " array(['diabl'], dtype='<U19'),\n",
       " array(['diabl'], dtype='<U19'),\n",
       " array(['diabl'], dtype='<U19'),\n",
       " array(['diabl'], dtype='<U19'),\n",
       " array(['diabl'], dtype='<U19'),\n",
       " array(['diabl'], dtype='<U19'),\n",
       " array(['diabl'], dtype='<U19'),\n",
       " array(['diabl'], dtype='<U19'),\n",
       " array(['diabl'], dtype='<U19'),\n",
       " array(['diabl'], dtype='<U19'),\n",
       " array(['diabl'], dtype='<U19'),\n",
       " array(['diabl'], dtype='<U19')]"
      ]
     },
     "execution_count": 58,
     "metadata": {},
     "output_type": "execute_result"
    }
   ],
   "source": [
    "tfidf_vect.inverse_transform(X_train[np.where(kmeans.labels_==3)])"
   ]
  },
  {
   "cell_type": "code",
   "execution_count": 69,
   "metadata": {},
   "outputs": [
    {
     "data": {
      "text/plain": [
       "array(['diabl', 'pli'], dtype='<U19')"
      ]
     },
     "execution_count": 69,
     "metadata": {},
     "output_type": "execute_result"
    }
   ],
   "source": [
    "tfidf_vect.inverse_transform(X_train[np.where(kmeans.labels_==3)])[4][0:]"
   ]
  },
  {
   "cell_type": "code",
   "execution_count": 73,
   "metadata": {},
   "outputs": [
    {
     "data": {
      "text/plain": [
       "['diabl',\n",
       " 'diabl',\n",
       " 'diabl',\n",
       " 'diabl',\n",
       " 'diabl',\n",
       " 'diabl',\n",
       " 'diabl',\n",
       " 'diabl',\n",
       " 'diabl',\n",
       " 'diabl',\n",
       " 'diabl',\n",
       " 'diabl',\n",
       " 'diabl',\n",
       " 'diabl',\n",
       " 'diabl',\n",
       " 'diabl',\n",
       " 'diabl',\n",
       " 'diabl',\n",
       " 'diabl',\n",
       " 'diabl',\n",
       " 'diabl',\n",
       " 'diabl',\n",
       " 'diabl',\n",
       " 'diabl',\n",
       " 'diabl',\n",
       " 'diabl',\n",
       " 'diabl',\n",
       " 'diabl',\n",
       " 'diabl',\n",
       " 'diabl',\n",
       " 'diabl',\n",
       " 'diabl',\n",
       " 'diabl',\n",
       " 'diabl',\n",
       " 'diabl',\n",
       " 'diabl',\n",
       " 'diabl',\n",
       " 'diabl',\n",
       " 'diabl',\n",
       " 'diabl',\n",
       " 'diabl',\n",
       " 'diabl',\n",
       " 'diabl',\n",
       " 'diabl',\n",
       " 'diabl',\n",
       " 'diabl',\n",
       " 'diabl',\n",
       " 'diabl',\n",
       " 'diabl',\n",
       " 'diabl',\n",
       " 'diabl',\n",
       " 'diabl',\n",
       " 'diabl',\n",
       " 'diabl',\n",
       " 'diabl',\n",
       " 'diabl',\n",
       " 'diabl',\n",
       " 'diabl',\n",
       " 'diabl',\n",
       " 'diabl',\n",
       " 'diabl',\n",
       " 'diabl',\n",
       " 'diabl',\n",
       " 'diabl',\n",
       " 'diabl',\n",
       " 'diabl',\n",
       " 'diabl',\n",
       " 'diabl',\n",
       " 'diabl',\n",
       " 'diabl',\n",
       " 'diabl',\n",
       " 'diabl',\n",
       " 'diabl',\n",
       " 'diabl',\n",
       " 'diabl',\n",
       " 'diabl',\n",
       " 'diabl',\n",
       " 'diabl',\n",
       " 'diabl',\n",
       " 'diabl',\n",
       " 'diabl',\n",
       " 'diabl',\n",
       " 'diabl',\n",
       " 'diabl',\n",
       " 'diabl',\n",
       " 'diabl',\n",
       " 'diabl',\n",
       " 'diabl',\n",
       " 'diabl',\n",
       " 'diabl',\n",
       " 'diabl',\n",
       " 'diabl',\n",
       " 'diabl',\n",
       " 'diabl',\n",
       " 'diabl',\n",
       " 'diabl',\n",
       " 'diabl',\n",
       " 'diabl',\n",
       " 'diabl',\n",
       " 'diabl',\n",
       " 'diabl',\n",
       " 'diabl',\n",
       " 'diabl',\n",
       " 'diabl',\n",
       " 'diabl',\n",
       " 'diabl',\n",
       " 'diabl',\n",
       " 'diabl',\n",
       " 'diabl',\n",
       " 'diabl',\n",
       " 'diabl',\n",
       " 'diabl',\n",
       " 'diabl',\n",
       " 'diabl',\n",
       " 'diabl',\n",
       " 'diabl',\n",
       " 'diabl',\n",
       " 'diabl',\n",
       " 'diabl',\n",
       " 'diabl',\n",
       " 'diabl',\n",
       " 'diabl',\n",
       " 'diabl',\n",
       " 'diabl',\n",
       " 'diabl',\n",
       " 'diabl',\n",
       " 'diabl',\n",
       " 'diabl',\n",
       " 'diabl',\n",
       " 'diabl',\n",
       " 'diabl',\n",
       " 'diabl',\n",
       " 'diabl',\n",
       " 'diabl',\n",
       " 'diabl',\n",
       " 'diabl',\n",
       " 'diabl',\n",
       " 'diabl',\n",
       " 'diabl',\n",
       " 'diabl',\n",
       " 'diabl',\n",
       " 'diabl',\n",
       " 'diabl',\n",
       " 'diabl',\n",
       " 'diabl',\n",
       " 'diabl',\n",
       " 'diabl',\n",
       " 'diabl',\n",
       " 'diabl',\n",
       " 'diabl',\n",
       " 'diabl',\n",
       " 'diabl',\n",
       " 'diabl',\n",
       " 'diabl',\n",
       " 'diabl',\n",
       " 'diabl',\n",
       " 'diabl',\n",
       " 'diabl',\n",
       " 'diabl',\n",
       " 'diabl',\n",
       " 'diabl',\n",
       " 'diabl',\n",
       " 'diabl',\n",
       " 'diabl']"
      ]
     },
     "execution_count": 73,
     "metadata": {},
     "output_type": "execute_result"
    }
   ],
   "source": [
    "[w[0] for w in tfidf_vect.inverse_transform(X_train[np.where(kmeans.labels_==3)])]"
   ]
  },
  {
   "cell_type": "code",
   "execution_count": 74,
   "metadata": {},
   "outputs": [
    {
     "data": {
      "text/plain": [
       "['diabl', 'pli']"
      ]
     },
     "execution_count": 74,
     "metadata": {},
     "output_type": "execute_result"
    }
   ],
   "source": [
    "[w for w in tfidf_vect.inverse_transform(X_train[np.where(kmeans.labels_==3)])[4]]"
   ]
  },
  {
   "cell_type": "code",
   "execution_count": null,
   "metadata": {},
   "outputs": [],
   "source": []
  },
  {
   "cell_type": "code",
   "execution_count": null,
   "metadata": {},
   "outputs": [],
   "source": []
  }
 ],
 "metadata": {
  "kernelspec": {
   "display_name": "Python 3",
   "language": "python",
   "name": "python3"
  },
  "language_info": {
   "codemirror_mode": {
    "name": "ipython",
    "version": 3
   },
   "file_extension": ".py",
   "mimetype": "text/x-python",
   "name": "python",
   "nbconvert_exporter": "python",
   "pygments_lexer": "ipython3",
   "version": "3.6.4"
  }
 },
 "nbformat": 4,
 "nbformat_minor": 2
}
